{
 "cells": [
  {
   "cell_type": "code",
   "execution_count": 1,
   "metadata": {},
   "outputs": [],
   "source": [
    "import numpy as np\n",
    "import matplotlib.pyplot as plt\n",
    "import pandas as pd\n",
    "import re"
   ]
  },
  {
   "cell_type": "code",
   "execution_count": 2,
   "metadata": {},
   "outputs": [],
   "source": [
    "with open('aemet_data.txt', 'r') as f:\n",
    "    data = f.read()\n",
    "    data = data.split('}, {')\n",
    "    data = [x[1:-1] for x in data]\n",
    "    data = [x.split(',\\n') for x in data]\n",
    "    data = [[x.replace('\\n', '') for x in y] for y in data]\n",
    "    data = [[x.replace(' ', '') for x in y] for y in data]"
   ]
  },
  {
   "cell_type": "code",
   "execution_count": 18,
   "metadata": {},
   "outputs": [],
   "source": [
    "aemet_dict = {\n",
    "    \"fecha\": [],\n",
    "    \"indicativo\": [],\n",
    "    \"nombre\": [],\n",
    "    \"provincia\": [],\n",
    "    \"altitud\": [],\n",
    "    \"tmed\": [],\n",
    "    \"prec\": [],\n",
    "    \"tmin\": [],\n",
    "    \"horatmin\": [],\n",
    "    \"tmax\": [],\n",
    "    \"horatmax\": [],\n",
    "    \"dir\": [],\n",
    "    \"velmedia\": [],\n",
    "    \"racha\": [],\n",
    "    \"horaracha\": [],\n",
    "    \"sol\": [],\n",
    "    \"presMax\": [],\n",
    "    \"horaPresMax\": [],\n",
    "    \"presMin\": [],\n",
    "    \"horaPresMin\": []\n",
    "}\n",
    "\n",
    "for i in range(len(data)):\n",
    "    keys_list = []\n",
    "    values_list = []\n",
    "    for j in range(len(data[i])):\n",
    "        key, value = data[i][j].split('\":\"')\n",
    "        key = key.strip('\"')\n",
    "        value = value.strip('\"')\n",
    "        key = key.strip()\n",
    "        value = value.strip()\n",
    "        keys_list.append(key)\n",
    "        values_list.append(value)\n",
    "    if len(keys_list) != len(aemet_dict.keys()):\n",
    "        missing_keys = [x for x in aemet_dict.keys() if x not in keys_list]\n",
    "        for k in missing_keys:\n",
    "            keys_list.append(k)\n",
    "            values_list.append(np.nan)\n",
    "    for k in range(len(keys_list)):\n",
    "        aemet_dict[keys_list[k]].append(values_list[k])"
   ]
  },
  {
   "cell_type": "code",
   "execution_count": 19,
   "metadata": {},
   "outputs": [
    {
     "name": "stdout",
     "output_type": "stream",
     "text": [
      "fecha: 190359\n",
      "indicativo: 190359\n",
      "nombre: 190359\n",
      "provincia: 190359\n",
      "altitud: 190359\n",
      "tmed: 190359\n",
      "prec: 190359\n",
      "tmin: 190359\n",
      "horatmin: 190359\n",
      "tmax: 190359\n",
      "horatmax: 190359\n",
      "dir: 190359\n",
      "velmedia: 190359\n",
      "racha: 190359\n",
      "horaracha: 190359\n",
      "sol: 190359\n",
      "presMax: 190359\n",
      "horaPresMax: 190359\n",
      "presMin: 190359\n",
      "horaPresMin: 190359\n"
     ]
    }
   ],
   "source": [
    "for k in aemet_dict:\n",
    "    print(f\"{k}: {len(aemet_dict[k])}\")"
   ]
  },
  {
   "cell_type": "code",
   "execution_count": 17,
   "metadata": {},
   "outputs": [],
   "source": [
    "aemet_df = pd.DataFrame(aemet_dict)\n",
    "aemet_df.to_csv('aemet_data.csv', index=False, header=True, sep=\";\")"
   ]
  },
  {
   "cell_type": "code",
   "execution_count": null,
   "metadata": {},
   "outputs": [],
   "source": []
  }
 ],
 "metadata": {
  "kernelspec": {
   "display_name": "Python 3",
   "language": "python",
   "name": "python3"
  },
  "language_info": {
   "codemirror_mode": {
    "name": "ipython",
    "version": 3
   },
   "file_extension": ".py",
   "mimetype": "text/x-python",
   "name": "python",
   "nbconvert_exporter": "python",
   "pygments_lexer": "ipython3",
   "version": "3.10.8 (main, Oct 13 2022, 10:17:43) [Clang 14.0.0 (clang-1400.0.29.102)]"
  },
  "orig_nbformat": 4,
  "vscode": {
   "interpreter": {
    "hash": "aee8b7b246df8f9039afb4144a1f6fd8d2ca17a180786b69acc140d282b71a49"
   }
  }
 },
 "nbformat": 4,
 "nbformat_minor": 2
}
